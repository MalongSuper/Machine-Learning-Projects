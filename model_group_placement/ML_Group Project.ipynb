{
 "cells": [
  {
   "cell_type": "markdown",
   "id": "56cfaf47",
   "metadata": {},
   "source": [
    "### Machine Learning - Group Project"
   ]
  },
  {
   "cell_type": "markdown",
   "id": "1f72ee8e",
   "metadata": {},
   "source": [
    "Comparing various Machine Learning algorithms"
   ]
  },
  {
   "cell_type": "code",
   "execution_count": 2,
   "id": "77229718",
   "metadata": {},
   "outputs": [],
   "source": [
    "import pandas as pd\n",
    "import numpy as np"
   ]
  },
  {
   "cell_type": "markdown",
   "id": "84303a91",
   "metadata": {},
   "source": [
    "1) Problem Selection"
   ]
  },
  {
   "cell_type": "markdown",
   "id": "44aa9055",
   "metadata": {},
   "source": [
    "Choose a real-world dataset (e.g., healthcare prediction, customer churn, text classification)."
   ]
  },
  {
   "cell_type": "markdown",
   "id": "0b71ea1d",
   "metadata": {},
   "source": [
    "The dataset must contain both features and class labels."
   ]
  },
  {
   "cell_type": "code",
   "execution_count": 3,
   "id": "c4f9925d",
   "metadata": {},
   "outputs": [
    {
     "data": {
      "text/plain": [
       "('Rows:', 10200, '; Columns:', 10)"
      ]
     },
     "execution_count": 3,
     "metadata": {},
     "output_type": "execute_result"
    }
   ],
   "source": [
    "# Step 1: Load the dataset\n",
    "df = pd.read_csv('CollegePlacement.csv')\n",
    "# Get rows and columns\n",
    "\"Rows:\", df.shape[0], \"; Columns:\", df.shape[1]\n"
   ]
  },
  {
   "cell_type": "code",
   "execution_count": 4,
   "id": "5b9998f6",
   "metadata": {},
   "outputs": [
    {
     "data": {
      "application/vnd.microsoft.datawrangler.viewer.v0+json": {
       "columns": [
        {
         "name": "index",
         "rawType": "int64",
         "type": "integer"
        },
        {
         "name": "IQ",
         "rawType": "float64",
         "type": "float"
        },
        {
         "name": "Major",
         "rawType": "object",
         "type": "string"
        },
        {
         "name": "Prev_Sem_Result",
         "rawType": "float64",
         "type": "float"
        },
        {
         "name": "CGPA",
         "rawType": "float64",
         "type": "float"
        },
        {
         "name": "Academic_Performance",
         "rawType": "float64",
         "type": "float"
        },
        {
         "name": "Internship_Experience",
         "rawType": "object",
         "type": "unknown"
        },
        {
         "name": "Extra_Curricular_Score",
         "rawType": "float64",
         "type": "float"
        },
        {
         "name": "Communication_Skills",
         "rawType": "float64",
         "type": "float"
        },
        {
         "name": "Projects_Completed",
         "rawType": "float64",
         "type": "float"
        },
        {
         "name": "Placement",
         "rawType": "object",
         "type": "string"
        }
       ],
       "ref": "25ac3830-9ec2-47cc-8af3-395523990408",
       "rows": [
        [
         "0",
         "107.0",
         "Finance",
         "6.61",
         "6.28",
         "8.0",
         "No",
         "8.0",
         "8.0",
         "4.0",
         "No"
        ],
        [
         "1",
         "97.0",
         "Restaurant",
         "5.52",
         "5.37",
         "8.0",
         "No",
         "7.0",
         "8.0",
         "0.0",
         "No"
        ],
        [
         "2",
         "109.0",
         "Engineering",
         "5.36",
         "5.83",
         "9.0",
         "No",
         "3.0",
         "1.0",
         "1.0",
         "No"
        ],
        [
         "3",
         "122.0",
         "Pharmacy",
         "5.47",
         "5.75",
         "6.0",
         "Yes",
         "1.0",
         "6.0",
         "1.0",
         "No"
        ],
        [
         "4",
         "96.0",
         "Finance",
         "7.91",
         "7.69",
         "7.0",
         "No",
         "8.0",
         "10.0",
         "2.0",
         "No"
        ],
        [
         "5",
         "96.0",
         "Education",
         "5.26",
         "5.32",
         "7.0",
         "No",
         "5.0",
         "8.0",
         "0.0",
         "No"
        ],
        [
         "6",
         "123.0",
         "Marketing",
         "6.68",
         "6.58",
         "5.0",
         "No",
         "7.0",
         "8.0",
         "2.0",
         "Yes"
        ],
        [
         "7",
         "111.0",
         "Finance",
         "8.77",
         "8.76",
         "7.0",
         "No",
         "3.0",
         "1.0",
         "2.0",
         "Yes"
        ],
        [
         "8",
         "92.0",
         "Engineering",
         "6.47",
         "6.33",
         "9.0",
         "No",
         "7.0",
         "8.0",
         "5.0",
         "No"
        ],
        [
         "9",
         "108.0",
         "Pharmacy",
         "8.82",
         "8.6",
         "4.0",
         "No",
         "5.0",
         "9.0",
         "1.0",
         "No"
        ],
        [
         "10",
         "93.0",
         "Restaurant",
         "8.73",
         "8.9",
         "2.0",
         "Yes",
         "5.0",
         "6.0",
         "0.0",
         "No"
        ],
        [
         "11",
         "93.0",
         "Engineering",
         "6.23",
         "6.51",
         "8.0",
         "No",
         "5.0",
         "7.0",
         "4.0",
         "No"
        ],
        [
         "12",
         "103.0",
         "Engineering",
         "8.64",
         "9.01",
         "7.0",
         "Yes",
         "8.0",
         "6.0",
         "1.0",
         "No"
        ],
        [
         "13",
         "71.0",
         "Marketing",
         "8.74",
         "8.4",
         "6.0",
         "No",
         "0.0",
         "5.0",
         "2.0",
         "No"
        ],
        [
         "14",
         "74.0",
         "Design",
         "6.99",
         "7.31",
         "7.0",
         "No",
         "0.0",
         "1.0",
         "2.0",
         "No"
        ],
        [
         "15",
         "91.0",
         "Pharmacy",
         "6.05",
         "5.8",
         "3.0",
         "No",
         "4.0",
         "2.0",
         "3.0",
         "No"
        ],
        [
         "16",
         "84.0",
         "Business",
         "7.61",
         "7.54",
         "6.0",
         "No",
         "0.0",
         "10.0",
         "0.0",
         "No"
        ],
        [
         "17",
         "104.0",
         "Engineering",
         "9.61",
         "10.01",
         "10.0",
         "Yes",
         "9.0",
         "2.0",
         "4.0",
         "No"
        ],
        [
         "18",
         "86.0",
         "Design",
         "8.2",
         "8.15",
         "7.0",
         "No",
         "8.0",
         "9.0",
         "4.0",
         "Yes"
        ],
        [
         "19",
         "78.0",
         "Business",
         "5.86",
         "5.56",
         "7.0",
         "Yes",
         "3.0",
         "6.0",
         "2.0",
         "No"
        ],
        [
         "20",
         "121.0",
         "Pharmacy",
         "8.41",
         "8.07",
         "5.0",
         "Yes",
         "1.0",
         "3.0",
         "3.0",
         "Yes"
        ],
        [
         "21",
         "96.0",
         "Computer Science",
         "7.14",
         "7.11",
         "3.0",
         "Yes",
         "2.0",
         "3.0",
         "3.0",
         "No"
        ],
        [
         "22",
         "101.0",
         "Education",
         "7.96",
         "8.22",
         "2.0",
         "Yes",
         "8.0",
         "10.0",
         "0.0",
         "No"
        ],
        [
         "23",
         "78.0",
         "Design",
         "8.67",
         "9.17",
         "7.0",
         "Yes",
         "10.0",
         "10.0",
         "2.0",
         "Yes"
        ],
        [
         "24",
         "91.0",
         "Psychology",
         "7.57",
         "7.86",
         "4.0",
         "Yes",
         "7.0",
         "2.0",
         "2.0",
         "No"
        ],
        [
         "25",
         "101.0",
         "Computer Science",
         "9.07",
         "9.45",
         "2.0",
         "No",
         "2.0",
         "7.0",
         "2.0",
         "No"
        ],
        [
         "26",
         "82.0",
         "Education",
         "8.61",
         "8.86",
         "8.0",
         "No",
         "7.0",
         "1.0",
         "0.0",
         "No"
        ],
        [
         "27",
         "105.0",
         "Marketing",
         "8.08",
         "8.48",
         "2.0",
         "No",
         "3.0",
         "1.0",
         "4.0",
         "No"
        ],
        [
         "28",
         "90.0",
         "Finance",
         "5.75",
         "5.33",
         "6.0",
         "Yes",
         "5.0",
         "10.0",
         "1.0",
         "No"
        ],
        [
         "29",
         "95.0",
         "Restaurant",
         "9.18",
         "9.61",
         "4.0",
         "Yes",
         "3.0",
         "3.0",
         "3.0",
         "No"
        ],
        [
         "30",
         "90.0",
         "Psychology",
         "9.68",
         "9.58",
         "9.0",
         "Yes",
         "10.0",
         "1.0",
         "4.0",
         "No"
        ],
        [
         "31",
         "127.0",
         "Marketing",
         "5.68",
         "6.1",
         "5.0",
         "No",
         "4.0",
         "3.0",
         "1.0",
         "No"
        ],
        [
         "32",
         "99.0",
         "Pharmacy",
         "7.44",
         "7.02",
         "4.0",
         "No",
         "9.0",
         "9.0",
         "4.0",
         "No"
        ],
        [
         "33",
         "84.0",
         "Marketing",
         "6.29",
         "6.51",
         "8.0",
         "No",
         "8.0",
         "7.0",
         "4.0",
         "No"
        ],
        [
         "34",
         "112.0",
         "Finance",
         "8.77",
         "9.01",
         "3.0",
         "Yes",
         "1.0",
         "9.0",
         "4.0",
         "Yes"
        ],
        [
         "35",
         "81.0",
         "Pharmacy",
         "8.61",
         "9.11",
         "9.0",
         "Yes",
         "8.0",
         "7.0",
         "4.0",
         "No"
        ],
        [
         "36",
         "103.0",
         "Psychology",
         "5.7",
         "5.97",
         "8.0",
         "Yes",
         "2.0",
         "9.0",
         "2.0",
         "No"
        ],
        [
         "37",
         "70.0",
         "Finance",
         "9.39",
         "9.27",
         "8.0",
         "No",
         "4.0",
         "3.0",
         "4.0",
         "No"
        ],
        [
         "38",
         "80.0",
         "Business",
         "5.9",
         "5.96",
         "10.0",
         "Yes",
         "6.0",
         "7.0",
         "1.0",
         "No"
        ],
        [
         "39",
         "102.0",
         "Restaurant",
         "8.99",
         "8.86",
         "5.0",
         "No",
         "1.0",
         "6.0",
         "1.0",
         "No"
        ],
        [
         "40",
         "111.0",
         "Psychology",
         "7.28",
         "6.98",
         "1.0",
         "No",
         "3.0",
         "2.0",
         "3.0",
         "No"
        ],
        [
         "41",
         "102.0",
         "Business",
         "6.64",
         "6.39",
         "10.0",
         "No",
         "0.0",
         "6.0",
         "5.0",
         "No"
        ],
        [
         "42",
         "98.0",
         "Education",
         "5.79",
         "5.51",
         "9.0",
         "No",
         "10.0",
         "3.0",
         "0.0",
         "No"
        ],
        [
         "43",
         "95.0",
         "Psychology",
         "5.84",
         "5.89",
         "2.0",
         "Yes",
         "2.0",
         "2.0",
         "1.0",
         "No"
        ],
        [
         "44",
         "77.0",
         "Education",
         "8.31",
         "8.72",
         "1.0",
         "Yes",
         "5.0",
         "5.0",
         "1.0",
         "No"
        ],
        [
         "45",
         "89.0",
         "Pharmacy",
         "7.75",
         "8.16",
         "6.0",
         "Yes",
         "1.0",
         "5.0",
         "1.0",
         "No"
        ],
        [
         "46",
         "93.0",
         "Business",
         "5.61",
         "5.16",
         "1.0",
         "Yes",
         "7.0",
         "2.0",
         "1.0",
         "No"
        ],
        [
         "47",
         "115.0",
         "Restaurant",
         "5.56",
         "5.14",
         "10.0",
         "Yes",
         "6.0",
         "3.0",
         "0.0",
         "No"
        ],
        [
         "48",
         "105.0",
         "Finance",
         "5.36",
         "5.11",
         "10.0",
         "No",
         "2.0",
         "8.0",
         "0.0",
         "No"
        ],
        [
         "49",
         "73.0",
         "Engineering",
         "8.72",
         "8.48",
         "10.0",
         "Yes",
         "0.0",
         "5.0",
         "5.0",
         "No"
        ]
       ],
       "shape": {
        "columns": 10,
        "rows": 10200
       }
      },
      "text/html": [
       "<div>\n",
       "<style scoped>\n",
       "    .dataframe tbody tr th:only-of-type {\n",
       "        vertical-align: middle;\n",
       "    }\n",
       "\n",
       "    .dataframe tbody tr th {\n",
       "        vertical-align: top;\n",
       "    }\n",
       "\n",
       "    .dataframe thead th {\n",
       "        text-align: right;\n",
       "    }\n",
       "</style>\n",
       "<table border=\"1\" class=\"dataframe\">\n",
       "  <thead>\n",
       "    <tr style=\"text-align: right;\">\n",
       "      <th></th>\n",
       "      <th>IQ</th>\n",
       "      <th>Major</th>\n",
       "      <th>Prev_Sem_Result</th>\n",
       "      <th>CGPA</th>\n",
       "      <th>Academic_Performance</th>\n",
       "      <th>Internship_Experience</th>\n",
       "      <th>Extra_Curricular_Score</th>\n",
       "      <th>Communication_Skills</th>\n",
       "      <th>Projects_Completed</th>\n",
       "      <th>Placement</th>\n",
       "    </tr>\n",
       "  </thead>\n",
       "  <tbody>\n",
       "    <tr>\n",
       "      <th>0</th>\n",
       "      <td>107.0</td>\n",
       "      <td>Finance</td>\n",
       "      <td>6.61</td>\n",
       "      <td>6.28</td>\n",
       "      <td>8.0</td>\n",
       "      <td>No</td>\n",
       "      <td>8.0</td>\n",
       "      <td>8.0</td>\n",
       "      <td>4.0</td>\n",
       "      <td>No</td>\n",
       "    </tr>\n",
       "    <tr>\n",
       "      <th>1</th>\n",
       "      <td>97.0</td>\n",
       "      <td>Restaurant</td>\n",
       "      <td>5.52</td>\n",
       "      <td>5.37</td>\n",
       "      <td>8.0</td>\n",
       "      <td>No</td>\n",
       "      <td>7.0</td>\n",
       "      <td>8.0</td>\n",
       "      <td>0.0</td>\n",
       "      <td>No</td>\n",
       "    </tr>\n",
       "    <tr>\n",
       "      <th>2</th>\n",
       "      <td>109.0</td>\n",
       "      <td>Engineering</td>\n",
       "      <td>5.36</td>\n",
       "      <td>5.83</td>\n",
       "      <td>9.0</td>\n",
       "      <td>No</td>\n",
       "      <td>3.0</td>\n",
       "      <td>1.0</td>\n",
       "      <td>1.0</td>\n",
       "      <td>No</td>\n",
       "    </tr>\n",
       "    <tr>\n",
       "      <th>3</th>\n",
       "      <td>122.0</td>\n",
       "      <td>Pharmacy</td>\n",
       "      <td>5.47</td>\n",
       "      <td>5.75</td>\n",
       "      <td>6.0</td>\n",
       "      <td>Yes</td>\n",
       "      <td>1.0</td>\n",
       "      <td>6.0</td>\n",
       "      <td>1.0</td>\n",
       "      <td>No</td>\n",
       "    </tr>\n",
       "    <tr>\n",
       "      <th>4</th>\n",
       "      <td>96.0</td>\n",
       "      <td>Finance</td>\n",
       "      <td>7.91</td>\n",
       "      <td>7.69</td>\n",
       "      <td>7.0</td>\n",
       "      <td>No</td>\n",
       "      <td>8.0</td>\n",
       "      <td>10.0</td>\n",
       "      <td>2.0</td>\n",
       "      <td>No</td>\n",
       "    </tr>\n",
       "    <tr>\n",
       "      <th>...</th>\n",
       "      <td>...</td>\n",
       "      <td>...</td>\n",
       "      <td>...</td>\n",
       "      <td>...</td>\n",
       "      <td>...</td>\n",
       "      <td>...</td>\n",
       "      <td>...</td>\n",
       "      <td>...</td>\n",
       "      <td>...</td>\n",
       "      <td>...</td>\n",
       "    </tr>\n",
       "    <tr>\n",
       "      <th>10195</th>\n",
       "      <td>106.0</td>\n",
       "      <td>Finance</td>\n",
       "      <td>5.57</td>\n",
       "      <td>7.85</td>\n",
       "      <td>3.0</td>\n",
       "      <td>No</td>\n",
       "      <td>NaN</td>\n",
       "      <td>9.0</td>\n",
       "      <td>2.0</td>\n",
       "      <td>No</td>\n",
       "    </tr>\n",
       "    <tr>\n",
       "      <th>10196</th>\n",
       "      <td>87.0</td>\n",
       "      <td>Pharmacy</td>\n",
       "      <td>5.56</td>\n",
       "      <td>6.78</td>\n",
       "      <td>3.0</td>\n",
       "      <td>No</td>\n",
       "      <td>3.0</td>\n",
       "      <td>NaN</td>\n",
       "      <td>2.0</td>\n",
       "      <td>No</td>\n",
       "    </tr>\n",
       "    <tr>\n",
       "      <th>10197</th>\n",
       "      <td>102.0</td>\n",
       "      <td>Pharmacy</td>\n",
       "      <td>8.12</td>\n",
       "      <td>9.93</td>\n",
       "      <td>2.0</td>\n",
       "      <td>Yes</td>\n",
       "      <td>6.0</td>\n",
       "      <td>2.0</td>\n",
       "      <td>4.0</td>\n",
       "      <td>Yes</td>\n",
       "    </tr>\n",
       "    <tr>\n",
       "      <th>10198</th>\n",
       "      <td>101.0</td>\n",
       "      <td>Finance</td>\n",
       "      <td>8.58</td>\n",
       "      <td>8.03</td>\n",
       "      <td>4.0</td>\n",
       "      <td>No</td>\n",
       "      <td>0.0</td>\n",
       "      <td>3.0</td>\n",
       "      <td>4.0</td>\n",
       "      <td>Yes</td>\n",
       "    </tr>\n",
       "    <tr>\n",
       "      <th>10199</th>\n",
       "      <td>NaN</td>\n",
       "      <td>Psychology</td>\n",
       "      <td>7.80</td>\n",
       "      <td>6.19</td>\n",
       "      <td>7.0</td>\n",
       "      <td>NaN</td>\n",
       "      <td>5.0</td>\n",
       "      <td>5.0</td>\n",
       "      <td>2.0</td>\n",
       "      <td>No</td>\n",
       "    </tr>\n",
       "  </tbody>\n",
       "</table>\n",
       "<p>10200 rows × 10 columns</p>\n",
       "</div>"
      ],
      "text/plain": [
       "          IQ        Major  Prev_Sem_Result  CGPA  Academic_Performance  \\\n",
       "0      107.0      Finance             6.61  6.28                   8.0   \n",
       "1       97.0   Restaurant             5.52  5.37                   8.0   \n",
       "2      109.0  Engineering             5.36  5.83                   9.0   \n",
       "3      122.0     Pharmacy             5.47  5.75                   6.0   \n",
       "4       96.0      Finance             7.91  7.69                   7.0   \n",
       "...      ...          ...              ...   ...                   ...   \n",
       "10195  106.0      Finance             5.57  7.85                   3.0   \n",
       "10196   87.0     Pharmacy             5.56  6.78                   3.0   \n",
       "10197  102.0     Pharmacy             8.12  9.93                   2.0   \n",
       "10198  101.0      Finance             8.58  8.03                   4.0   \n",
       "10199    NaN   Psychology             7.80  6.19                   7.0   \n",
       "\n",
       "      Internship_Experience  Extra_Curricular_Score  Communication_Skills  \\\n",
       "0                        No                     8.0                   8.0   \n",
       "1                        No                     7.0                   8.0   \n",
       "2                        No                     3.0                   1.0   \n",
       "3                       Yes                     1.0                   6.0   \n",
       "4                        No                     8.0                  10.0   \n",
       "...                     ...                     ...                   ...   \n",
       "10195                    No                     NaN                   9.0   \n",
       "10196                    No                     3.0                   NaN   \n",
       "10197                   Yes                     6.0                   2.0   \n",
       "10198                    No                     0.0                   3.0   \n",
       "10199                   NaN                     5.0                   5.0   \n",
       "\n",
       "       Projects_Completed Placement  \n",
       "0                     4.0        No  \n",
       "1                     0.0        No  \n",
       "2                     1.0        No  \n",
       "3                     1.0        No  \n",
       "4                     2.0        No  \n",
       "...                   ...       ...  \n",
       "10195                 2.0        No  \n",
       "10196                 2.0        No  \n",
       "10197                 4.0       Yes  \n",
       "10198                 4.0       Yes  \n",
       "10199                 2.0        No  \n",
       "\n",
       "[10200 rows x 10 columns]"
      ]
     },
     "execution_count": 4,
     "metadata": {},
     "output_type": "execute_result"
    }
   ],
   "source": [
    "# Display the dataset\n",
    "df"
   ]
  },
  {
   "cell_type": "markdown",
   "id": "ed94bc40",
   "metadata": {},
   "source": [
    "2) Data Preparation\n",
    "\n",
    "Handle missing values, normalize or scale numerical features, and encode categorical variables.\n",
    "Split data into training and testing sets (for supervised and semi-supervised learning)."
   ]
  },
  {
   "cell_type": "code",
   "execution_count": 5,
   "id": "a0a9230a",
   "metadata": {},
   "outputs": [
    {
     "data": {
      "text/plain": [
       "('Missing values in each column:\\n',\n",
       " IQ                        10\n",
       " Major                      0\n",
       " Prev_Sem_Result           39\n",
       " CGPA                      21\n",
       " Academic_Performance      21\n",
       " Internship_Experience     29\n",
       " Extra_Curricular_Score    19\n",
       " Communication_Skills      38\n",
       " Projects_Completed        13\n",
       " Placement                  0\n",
       " dtype: int64)"
      ]
     },
     "execution_count": 5,
     "metadata": {},
     "output_type": "execute_result"
    }
   ],
   "source": [
    "# Display columns with missing values\n",
    "\"Missing values in each column:\\n\", df.isnull().sum()"
   ]
  },
  {
   "cell_type": "code",
   "execution_count": 6,
   "id": "751148ac",
   "metadata": {},
   "outputs": [
    {
     "name": "stdout",
     "output_type": "stream",
     "text": [
      "Numerical columns in the dataset:\n",
      "['IQ', 'Prev_Sem_Result', 'CGPA', 'Academic_Performance', 'Extra_Curricular_Score', 'Communication_Skills', 'Projects_Completed']\n",
      "Categorical columns in the dataset:\n",
      "['Major', 'Internship_Experience', 'Placement']\n"
     ]
    }
   ],
   "source": [
    "# Display the numerical columns\n",
    "print(\"Numerical columns in the dataset:\")\n",
    "print(df.select_dtypes(include=['number']).columns.tolist())\n",
    "# Display the categorical column names\n",
    "print(\"Categorical columns in the dataset:\")\n",
    "print(df.select_dtypes(include=['object']).columns.tolist())"
   ]
  },
  {
   "cell_type": "markdown",
   "id": "9045ec44",
   "metadata": {},
   "source": [
    "For Categorical Variables (Binary Output like 0/1), fill in the missing values with Mode"
   ]
  },
  {
   "cell_type": "code",
   "execution_count": 8,
   "id": "b95a281e",
   "metadata": {},
   "outputs": [],
   "source": [
    "df['Internship_Experience'] = df['Internship_Experience'].fillna(df['Internship_Experience'].mode().iloc[0])"
   ]
  },
  {
   "cell_type": "markdown",
   "id": "cb7189c4",
   "metadata": {},
   "source": [
    "For Integer Variables, we also fill in the missing values with Mode"
   ]
  },
  {
   "cell_type": "markdown",
   "id": "c9d04d6a",
   "metadata": {},
   "source": [
    "Upon reading the dataset, we see that the integer columns are 'IQ', 'Academic_Performance', 'Extra_Curricular_Score', 'Communication_Skills', and 'Projects_Completed'. Even though they are depicted as floats in this dataset, they only contain zero-decimal values."
   ]
  },
  {
   "cell_type": "code",
   "execution_count": 14,
   "id": "3c378ff2",
   "metadata": {},
   "outputs": [],
   "source": [
    "discrete_columns = ['IQ', 'Academic_Performance', 'Extra_Curricular_Score', 'Communication_Skills', 'Projects_Completed']\n",
    "for i in discrete_columns:\n",
    "    df[i] = df[i].fillna(df[i].mode().iloc[0])"
   ]
  }
 ],
 "metadata": {
  "kernelspec": {
   "display_name": ".venv (3.13.7)",
   "language": "python",
   "name": "python3"
  },
  "language_info": {
   "codemirror_mode": {
    "name": "ipython",
    "version": 3
   },
   "file_extension": ".py",
   "mimetype": "text/x-python",
   "name": "python",
   "nbconvert_exporter": "python",
   "pygments_lexer": "ipython3",
   "version": "3.13.7"
  }
 },
 "nbformat": 4,
 "nbformat_minor": 5
}
